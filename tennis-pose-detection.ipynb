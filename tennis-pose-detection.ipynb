{
  "nbformat": 4,
  "nbformat_minor": 0,
  "metadata": {
    "colab": {
      "name": "tennis-pose-detection.ipynb",
      "provenance": [],
      "collapsed_sections": []
    },
    "kernelspec": {
      "name": "python3",
      "display_name": "Python 3"
    },
    "language_info": {
      "name": "python"
    },
    "accelerator": "GPU",
    "gpuClass": "standard"
  },
  "cells": [
    {
      "cell_type": "markdown",
      "source": [
        "# Tennis Players Pose Detection"
      ],
      "metadata": {
        "id": "Ez66b6hNdf_d"
      }
    },
    {
      "cell_type": "markdown",
      "source": [
        "## Importing libraries"
      ],
      "metadata": {
        "id": "1ABBXaHtdjcg"
      }
    },
    {
      "cell_type": "code",
      "execution_count": null,
      "metadata": {
        "id": "BnwKhjtXdb4V"
      },
      "outputs": [],
      "source": [
        "import os\n",
        "import io\n",
        "import base64\n",
        "from IPython.display import YouTubeVideo, HTML\n",
        "from os.path import exists, join, basename, splitext"
      ]
    },
    {
      "cell_type": "markdown",
      "source": [
        "## Installing OpenPose"
      ],
      "metadata": {
        "id": "wHy-Cobkdr8Q"
      }
    },
    {
      "cell_type": "code",
      "source": [
        "git_repo_url = 'https://github.com/CMU-Perceptual-Computing-Lab/openpose.git'\n",
        "project_name = splitext(basename(git_repo_url))[0]\n",
        "if not exists(project_name):\n",
        "  # installing new CMake because of CUDA10\n",
        "  !wget -q https://cmake.org/files/v3.13/cmake-3.13.0-Linux-x86_64.tar.gz\n",
        "  !tar xfz cmake-3.13.0-Linux-x86_64.tar.gz --strip-components=1 -C /usr/local\n",
        "  # cloning openpose repository\n",
        "  !git clone -q --depth 1 $git_repo_url\n",
        "  !sed -i 's/execute_process(COMMAND git checkout master WORKING_DIRECTORY ${CMAKE_SOURCE_DIR}\\/3rdparty\\/caffe)/execute_process(COMMAND git checkout f019d0dfe86f49d1140961f8c7dec22130c83154 WORKING_DIRECTORY ${CMAKE_SOURCE_DIR}\\/3rdparty\\/caffe)/g' openpose/CMakeLists.txt\n",
        "  # installing system dependencies\n",
        "  !apt-get -qq install -y libatlas-base-dev libprotobuf-dev libleveldb-dev libsnappy-dev libhdf5-serial-dev protobuf-compiler libgflags-dev libgoogle-glog-dev liblmdb-dev opencl-headers ocl-icd-opencl-dev libviennacl-dev\n",
        "  # installing python dependencies\n",
        "  !pip install -q youtube-dl\n",
        "  # building openpose\n",
        "  !cd openpose && rm -rf build || true && mkdir build && cd build && cmake .. && make -j`nproc`"
      ],
      "metadata": {
        "id": "H0jw55sbdl_P"
      },
      "execution_count": null,
      "outputs": []
    },
    {
      "cell_type": "markdown",
      "source": [
        "## Downloading Video"
      ],
      "metadata": {
        "id": "ygY7FaZ4dua8"
      }
    },
    {
      "cell_type": "code",
      "source": [
        "# saving YouTube video ID\n",
        "YouTubeID = 'kHrAaIFOh2I'\n",
        "# opening YouTube video\n",
        "YouTubeVideo(YouTubeID)"
      ],
      "metadata": {
        "id": "MQ7ZsEMadw6P"
      },
      "execution_count": null,
      "outputs": []
    },
    {
      "cell_type": "code",
      "source": [
        "# deleting previous input video\n",
        "!rm -rf youtube.mp4\n",
        "# downloading the youtube with the given ID\n",
        "!youtube-dl -f 'bestvideo[ext=mp4]' --output \"youtube.%(ext)s\" https://www.youtube.com/watch?v=$YouTubeID\n",
        "# cuting the first seconds of the video\n",
        "!ffmpeg -y -loglevel info -i youtube.mp4 -t 16 video.mp4"
      ],
      "metadata": {
        "id": "Nr3PIz_oefeI"
      },
      "execution_count": null,
      "outputs": []
    },
    {
      "cell_type": "markdown",
      "source": [
        "## Detecting Poses"
      ],
      "metadata": {
        "id": "Dr3mOP-We3aY"
      }
    },
    {
      "cell_type": "code",
      "source": [
        "# deleting previous output video\n",
        "!rm openpose.avi\n",
        "# detecting poses on the these first seconds\n",
        "!cd openpose && ./build/examples/openpose/openpose.bin --video ../video.mp4 --write_json ./output/ --display 0  --write_video ../openpose.avi\n",
        "# converting the result into MP4\n",
        "!ffmpeg -y -loglevel info -i openpose.avi output.mp4"
      ],
      "metadata": {
        "id": "T9LvMIeRe0bv"
      },
      "execution_count": null,
      "outputs": []
    },
    {
      "cell_type": "markdown",
      "source": [
        "## Showing Poses"
      ],
      "metadata": {
        "id": "qZFfIrmNe6fx"
      }
    },
    {
      "cell_type": "code",
      "source": [
        "# reading the video\n",
        "video_encoded = base64.b64encode(io.open('output.mp4', 'rb').read())\n",
        "# displaying the video\n",
        "HTML(data='''<video width=\"{0}\" height=\"{1}\" alt=\"test\" controls>\n",
        "             <source src=\"data:video/mp4;base64,{2}\" type=\"video/mp4\" />\n",
        "             </video>'''.format(960, 720, video_encoded.decode('ascii')))"
      ],
      "metadata": {
        "id": "Iq8CdLRGl9Gl"
      },
      "execution_count": null,
      "outputs": []
    }
  ]
}